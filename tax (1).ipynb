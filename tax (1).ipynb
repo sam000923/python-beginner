{
 "cells": [
  {
   "cell_type": "code",
   "execution_count": 4,
   "id": "fd34306c-5b95-4c6e-a35c-50be7b60aebb",
   "metadata": {},
   "outputs": [
    {
     "name": "stdout",
     "output_type": "stream",
     "text": [
      "Today's fruit is :Pear\n"
     ]
    }
   ],
   "source": [
    "# Choice fruits randomly\n",
    "\n",
    "import random\n",
    "\n",
    "fruits = ['Apple', 'Orange', 'Banana', 'Pear', 'Tomato']\n",
    "cf = random.choice(fruits)\n",
    "\n",
    "print(\"Today's fruit is :\" + cf)"
   ]
  },
  {
   "cell_type": "code",
   "execution_count": 9,
   "id": "a47a4ea6-be43-427b-9b0d-5bf04fa26c91",
   "metadata": {},
   "outputs": [
    {
     "name": "stdin",
     "output_type": "stream",
     "text": [
      "輸入景氣對策信號綜合分數 20\n"
     ]
    },
    {
     "name": "stdout",
     "output_type": "stream",
     "text": [
      "黃藍燈\n"
     ]
    }
   ],
   "source": [
    "# 景氣對策信號\n",
    "\n",
    "score = int(input('輸入景氣對策信號綜合分數'))\n",
    "\n",
    "if score >= 45 or score < 9:\n",
    "    print('錯誤')\n",
    "elif score >= 37:\n",
    "    print('紅燈')\n",
    "elif score >= 31:\n",
    "    print('黃紅燈')\n",
    "elif score >= 22:\n",
    "    print('綠燈')\n",
    "elif score >= 16:\n",
    "    print('黃藍燈')\n",
    "elif score >= 9:\n",
    "    print('藍燈')"
   ]
  },
  {
   "cell_type": "code",
   "execution_count": 11,
   "id": "5cef4b6d-36ae-4533-96c9-04fedf988ac7",
   "metadata": {},
   "outputs": [
    {
     "name": "stdin",
     "output_type": "stream",
     "text": [
      "請輸入淨年所得額: 040040\n"
     ]
    },
    {
     "name": "stdout",
     "output_type": "stream",
     "text": [
      "應繳稅額= 2002.0\n"
     ]
    }
   ],
   "source": [
    "level1 = 520000 * 0.05\n",
    "level2 = (1170000 - 520000) * 0.12\n",
    "level3 = (2350000 - 1170000) * 0.2\n",
    "level4 = (4400000 - 2350000) * 0.3\n",
    "level5 = (10000000 - 4400000) * 0.4\n",
    "\n",
    "income = int(input('請輸入淨年所得額:'))\n",
    "\n",
    "if income <= 520000:\n",
    "    tax = income * 0.05\n",
    "elif income <= 1170000:\n",
    "    tax = level1 + ((income - 520000) * 0.12)\n",
    "elif income <= 2350000:\n",
    "    tax = level1 + level2 + ((income - 1170000) * 0.2)\n",
    "elif income <= 4400000:\n",
    "    tax = level1 + level2 + level3 + ((income - 2350000) * 0.3)\n",
    "elif income <= 10000000:\n",
    "    tax = level1 + level2 + level3 + level4 + ((income - 4400000) * 0.4)\n",
    "else:\n",
    "    tax = level1 + level2 + level3 + level4 + level5 + ((income - 10000000) * 0.45)\n",
    "\n",
    "print('應繳稅額=', tax)"
   ]
  },
  {
   "cell_type": "code",
   "execution_count": null,
   "id": "460fc022-fc1c-48d3-9066-9d4f8e3953a4",
   "metadata": {},
   "outputs": [],
   "source": []
  }
 ],
 "metadata": {
  "kernelspec": {
   "display_name": "Python [conda env:base] *",
   "language": "python",
   "name": "conda-base-py"
  },
  "language_info": {
   "codemirror_mode": {
    "name": "ipython",
    "version": 3
   },
   "file_extension": ".py",
   "mimetype": "text/x-python",
   "name": "python",
   "nbconvert_exporter": "python",
   "pygments_lexer": "ipython3",
   "version": "3.12.7"
  }
 },
 "nbformat": 4,
 "nbformat_minor": 5
}
